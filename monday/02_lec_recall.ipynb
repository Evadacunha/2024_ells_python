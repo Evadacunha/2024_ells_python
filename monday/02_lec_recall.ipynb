{
  "cells": [
    {
      "cell_type": "markdown",
      "metadata": {
        "id": "view-in-github",
        "colab_type": "text"
      },
      "source": [
        "<a href=\"https://colab.research.google.com/github/Evadacunha/2024_ells_python/blob/main/monday/02_lec_recall.ipynb\" target=\"_parent\"><img src=\"https://colab.research.google.com/assets/colab-badge.svg\" alt=\"Open In Colab\"/></a>"
      ]
    },
    {
      "cell_type": "markdown",
      "metadata": {
        "id": "pRbDDh0Uf25z"
      },
      "source": [
        "# ELLS - Practical Introduction into Programming with Python\n",
        "\n",
        "<a href=\"https://pef.czu.cz/en/\"><img src=\"https://aleksejalex.4fan.cz/ells/temp_banner.jpeg?22\" alt=\"banner\" width=\"1000\"></a>\n",
        "\n",
        "\n",
        "\n"
      ]
    },
    {
      "cell_type": "markdown",
      "metadata": {
        "id": "LQsAPgdUvpSd"
      },
      "source": [
        "[GitHub Repository](https://github.com/)\n",
        "\n",
        "[Project's website](https://kii.pef.czu.cz/ells-2024)"
      ]
    },
    {
      "cell_type": "markdown",
      "metadata": {
        "id": "HRoCPFdVjWnR"
      },
      "source": [
        "# Plan for this lecture:\n",
        "\n",
        "<a href=\"https://www.pef.czu.cz/en\"><img src=\"https://aleksejalex.4fan.cz/imgsbin/uploads/logo.png\" alt=\"banner\" width=\"400\" align=\"right\"></a>\n",
        "\n",
        " - Variables\n",
        " - Conditions\n",
        " - Loops\n",
        " - Containers\n",
        " - Classes\n",
        "\n"
      ]
    },
    {
      "cell_type": "markdown",
      "metadata": {
        "id": "llHxz5U_CJkA"
      },
      "source": [
        "# Basics of Importing in Python\n",
        "\n",
        "In Python, you can import modules and packages in various ways. Here are three basic methods to do it:\n",
        "\n",
        "Basic imports\n",
        "- import math  # For math functions\n",
        "- import os    # For tasks with operating system\n",
        "- import sys   # For system parameters\n",
        "\n",
        "\n",
        "## 1. Basic Import of the Entire Module\n",
        "In this method, the entire module is imported, and to access its functions and classes, you need to use the module name.\n"
      ]
    },
    {
      "cell_type": "code",
      "execution_count": null,
      "metadata": {
        "id": "nf3zUbziCJkB",
        "outputId": "7484d2c4-5b2d-4f52-c249-409c303a4663",
        "colab": {
          "base_uri": "https://localhost:8080/"
        }
      },
      "outputs": [
        {
          "output_type": "stream",
          "name": "stdout",
          "text": [
            "4.0\n"
          ]
        }
      ],
      "source": [
        "# Import the whole module 'math'\n",
        "import math\n",
        "\n",
        "# we use functions 'sqrt' from module 'math'\n",
        "result = math.sqrt(16) #math.x to call a certain function from the library\n",
        "print(result)  # Output: 4.0\n"
      ]
    },
    {
      "cell_type": "markdown",
      "metadata": {
        "id": "a5oRukUNCJkD"
      },
      "source": [
        "## 2. Import Specific Functions or Classes from a Module\n",
        "\n",
        "This method allows you to import only specific functions or classes from a module, so you don't need to use the module name each time you call the function."
      ]
    },
    {
      "cell_type": "code",
      "execution_count": null,
      "metadata": {
        "id": "F8xI7lorCJkE",
        "outputId": "75cce958-58ce-4b7b-f3f3-cb694b63805d",
        "colab": {
          "base_uri": "https://localhost:8080/"
        }
      },
      "outputs": [
        {
          "output_type": "stream",
          "name": "stdout",
          "text": [
            "4.0\n",
            "8.0\n"
          ]
        }
      ],
      "source": [
        "# Importing specific functions 'sqrt' and 'pow' from the 'math' module\n",
        "from math import sqrt, pow #when you want to import multiple functions!\n",
        "\n",
        "# Using the 'sqrt' and 'pow' functions directly, no need to call 'math' again\n",
        "result1 = sqrt(16)\n",
        "result2 = pow(2, 3)\n",
        "print(result1)  # Output: 4.0\n",
        "print(result2)  # Output: 8.0\n"
      ]
    },
    {
      "cell_type": "markdown",
      "metadata": {
        "id": "UhanJ3DlCJkF"
      },
      "source": [
        "## 3. Import a Module with an Alias\n",
        " Using an alias can shorten the module name, which is especially useful for modules with long names."
      ]
    },
    {
      "cell_type": "code",
      "execution_count": null,
      "metadata": {
        "id": "vSbCI-EBCJkH",
        "outputId": "d5ccccaf-8ea5-4770-c30d-0d44c7d22de6",
        "colab": {
          "base_uri": "https://localhost:8080/"
        }
      },
      "outputs": [
        {
          "output_type": "stream",
          "name": "stdout",
          "text": [
            "[1 2 3 4]\n",
            "3.0\n"
          ]
        }
      ],
      "source": [
        "# Importing the 'numpy' module with alias 'np'\n",
        "# To make naming more clear\n",
        "import numpy as np\n",
        "import math as lauda\n",
        "\n",
        "# Using functions from the 'numpy' module with the alias 'np'\n",
        "array = np.array([1, 2, 3, 4])\n",
        "print(array)  # Output: [1 2 3 4]\n",
        "result = lauda.sqrt(9)\n",
        "print(result)\n"
      ]
    },
    {
      "cell_type": "markdown",
      "metadata": {
        "id": "Q56ZX6-qCJkI"
      },
      "source": [
        "# Variables\n",
        "<img src=\"https://aleksejalex.4fan.cz/imgsbin/uploads/variables.jpg\" alt=\"banner\" width=\"50%\">\n"
      ]
    },
    {
      "cell_type": "markdown",
      "metadata": {
        "id": "M0XSVDFdCJkJ"
      },
      "source": [
        "### 1.Variables - 'string', 'int'\n",
        "\n",
        "Explanation:\n",
        "name = \"Alice\": Declares and assigns a string value \"Alice\" to the variable name.\n",
        "\n",
        "- `age = 30`: Declares and assigns an integer value 30 to the variable age.\n",
        "\n",
        "- `city = \"New York\"`: Declares and assigns a string value \"New York\" to the variable city.\n",
        "\n",
        "- `print(f\"Name: {name}, Age: {age}, City: {city}\")`: Prints the values stored in variables name, age, and city.\n",
        "\n",
        "- `is_day_today = True`: Declares boolean variable to `True`"
      ]
    },
    {
      "cell_type": "code",
      "execution_count": null,
      "metadata": {
        "id": "-p6Ki3BsCJkJ",
        "outputId": "90bd9285-75c8-418e-c0f5-76ed8e6ba67c",
        "colab": {
          "base_uri": "https://localhost:8080/"
        }
      },
      "outputs": [
        {
          "output_type": "stream",
          "name": "stdout",
          "text": [
            "Name: Alice, Age: 30, City: New York\n",
            "True\n"
          ]
        }
      ],
      "source": [
        "# Example of variable declaration and assignment\n",
        "name = \"Alice\"\n",
        "age = 30\n",
        "city = \"New York\"\n",
        "\n",
        "print(f\"Name: {name}, Age: {age}, City: {city}\")\n",
        "\n",
        "is_day_today = True\n",
        "print(is_day_today)\n"
      ]
    },
    {
      "cell_type": "markdown",
      "metadata": {
        "id": "M_Y7A2SvCJkK"
      },
      "source": [
        "### 2. Variable Reassignment\n",
        "- `x = 10`: Initializes and assigns the integer value 10 to the variable x.\n",
        "- `print(\"Initial x:\", x)`: Prints the initial value of x.\n",
        "- `x = 20`: Reassigns the integer value 20 to the variable x.\n",
        "- `print(\"Updated x:\", x)`: Prints the updated value of x.\n",
        "\n",
        "Integers and strings can be reassigned! Not for all data types(immutable)."
      ]
    },
    {
      "cell_type": "code",
      "execution_count": null,
      "metadata": {
        "id": "T1Yez9sCCJkK",
        "outputId": "7d43277b-77f0-4618-a24a-dd793dd6e9b7",
        "colab": {
          "base_uri": "https://localhost:8080/"
        }
      },
      "outputs": [
        {
          "output_type": "stream",
          "name": "stdout",
          "text": [
            "Initial x: 10\n",
            "Updated x: 20\n"
          ]
        }
      ],
      "source": [
        "# Example of variable reassignment\n",
        "x = 10\n",
        "print(f\"Initial x: {x}\") #option 1\n",
        "\n",
        "x = 20\n",
        "print(\"Updated x:\", x) #option 2\n",
        "\n"
      ]
    },
    {
      "cell_type": "markdown",
      "metadata": {
        "id": "67rd49vKCJkL"
      },
      "source": [
        "### 3. Variable Concatenation\n",
        "\n",
        "- `first_name = \"John\"`: Declares and assigns the string \"John\" to the variable first_name.\n",
        "- `last_name = \"Doe\"`: Declares and assigns the string \"Doe\" to the variable last_name.\n",
        "- `full_name = first_name + \" \" + last_name`: Concatenates first_name, a space \" \", and last_name to form full_name.\n",
        "- `print(\"Full Name:\", full_name)`: Prints the concatenated full name."
      ]
    },
    {
      "cell_type": "code",
      "execution_count": null,
      "metadata": {
        "id": "FkmV5cULCJkL",
        "outputId": "930dac60-0874-4ae7-e5e4-ff9c2002425b",
        "colab": {
          "base_uri": "https://localhost:8080/"
        }
      },
      "outputs": [
        {
          "output_type": "stream",
          "name": "stdout",
          "text": [
            "Full Name: John Doe\n"
          ]
        }
      ],
      "source": [
        "# Example of variable concatenation\n",
        "first_name = \"John\"\n",
        "last_name = \"Doe\"\n",
        "\n",
        "full_name = first_name + \" \" + last_name\n",
        "print(\"Full Name:\", full_name)\n",
        "\n",
        "#important use: first_name = 'path for file' and second_name = 'results.xlsx' to read file or load a file on a certain path (e.g. desktop, map,...)\n",
        "\n"
      ]
    },
    {
      "cell_type": "markdown",
      "metadata": {
        "id": "FYkpEz7UCJkM"
      },
      "source": [
        "### 4. Variable Scope\n",
        "- `def my_function():`: Defines a function my_function.\n",
        "- `inner_variable = \"Inside Function\":` Declares and assigns the string \"Inside Function\" to the variable inner_variable within my_function.\n",
        "- `print(\"Inside function:\", inner_variable):` Prints the value of inner_variable from within my_function.\n",
        "- `my_function():` Calls my_function to execute its code.\n",
        "- `outer_variable = \"Outside Function\":` Declares and assigns the string \"Outside Function\" to the variable outer_variable outside any function scope.\n",
        "- `print(\"Outside function:\", outer_variable):` Prints the value of outer_variable from outside my_function."
      ]
    },
    {
      "cell_type": "code",
      "execution_count": null,
      "metadata": {
        "id": "-I_S5uVACJkM",
        "outputId": "ff4c558e-02d3-4d00-ee09-05763552875c",
        "colab": {
          "base_uri": "https://localhost:8080/"
        }
      },
      "outputs": [
        {
          "output_type": "stream",
          "name": "stdout",
          "text": [
            "Inside function: Inside Function\n",
            "Outside function: Outside Function\n"
          ]
        }
      ],
      "source": [
        "# Example of variable scope\n",
        "#indentations are used to make it clear that you are in the function\n",
        "#other programming languages have brackets\n",
        "def my_function():\n",
        "    inner_variable = \"Inside Function\"\n",
        "    print(\"Inside function:\", inner_variable)\n",
        "\n",
        "my_function()\n",
        "\n",
        "outer_variable = \"Outside Function\"\n",
        "print(\"Outside function:\", outer_variable)\n"
      ]
    },
    {
      "cell_type": "markdown",
      "metadata": {
        "id": "aYvWoSqLCJkM"
      },
      "source": [
        "### 5. Mutliple variable assignment\n",
        "\n",
        "- `a, b, c = 1, 2, 3`: Assigns the values 1, 2, and 3 to variables a, b, and c respectively in a single line.\n",
        "- `print(\"a:\", a):` Prints the value of a.\n",
        "- `print(\"b:\", b):` Prints the value of b.\n",
        "- `print(\"c:\", c):` Prints the value of c."
      ]
    },
    {
      "cell_type": "code",
      "execution_count": null,
      "metadata": {
        "id": "GHoPd3NCCJkN",
        "outputId": "1535af1e-8b7c-4300-906a-212b79070cc4"
      },
      "outputs": [
        {
          "name": "stdout",
          "output_type": "stream",
          "text": [
            "a: 1\n",
            "b: 2\n",
            "c: 3\n"
          ]
        }
      ],
      "source": [
        "# Example of multiple assignment\n",
        "a, b, c = 1, 2, 3\n",
        "print(\"a:\", a)\n",
        "print(\"b:\", b)\n",
        "print(\"c:\", c)"
      ]
    },
    {
      "cell_type": "markdown",
      "metadata": {
        "id": "eMDUS1qpCJkN"
      },
      "source": [
        "# Conditions\n",
        "<img src=\"https://aleksejalex.4fan.cz/imgsbin/uploads/condition.jpg\" alt=\"banner\" width=\"50%\">"
      ]
    },
    {
      "cell_type": "markdown",
      "metadata": {
        "id": "We444Zd_CJkN"
      },
      "source": [
        "### 1.a) Conditions - 'if' statement\n",
        "\n",
        "- using `if`\n",
        "- basic comparison"
      ]
    },
    {
      "cell_type": "code",
      "execution_count": null,
      "metadata": {
        "id": "5WXmnrMqcZ9X",
        "outputId": "52411147-156d-464d-e8a1-f452be844fa1"
      },
      "outputs": [
        {
          "name": "stdout",
          "output_type": "stream",
          "text": [
            "x is greater than 5\n"
          ]
        }
      ],
      "source": [
        "# Example of an if statement\n",
        "x = 10\n",
        "if x > 5: #logical condition\n",
        "    print(\"x is greater than 5\")"
      ]
    },
    {
      "cell_type": "markdown",
      "metadata": {
        "id": "BMLv7F43CJkO"
      },
      "source": [
        "### 1.b) Conditions - 'if' statement - one line construct and ternary operator\n",
        "\n",
        "- using `if` one line construct\n",
        "- ternary operator usage"
      ]
    },
    {
      "cell_type": "code",
      "execution_count": null,
      "metadata": {
        "id": "O7eGIakzCJkO",
        "outputId": "5a7109a3-ad43-449c-bd0f-27916b31959d"
      },
      "outputs": [
        {
          "name": "stdout",
          "output_type": "stream",
          "text": [
            "Name: Alice, Age: 30, City: New York\n",
            "Non-positive\n"
          ]
        }
      ],
      "source": [
        "name, age, city = \"Alice\", 30, \"New York\"\n",
        "print(f\"Name: {name}, Age: {age}, City: {city}\") if (name := \"Alice\") and (age := 30) and (city := \"New York\") else None\n",
        "\n",
        "# ternary operator\n",
        "value = -10\n",
        "result = \"Positive\" if value > 0 else \"Non-positive\"\n",
        "print(result)\n",
        "\n",
        "#more difficult to read, but more compact\n",
        "#often given like this by chatGPT"
      ]
    },
    {
      "cell_type": "markdown",
      "metadata": {
        "id": "cVs8jtmGCJkP"
      },
      "source": [
        "### 2.Conditions using 'if' and 'else'\n",
        "\n",
        "- Example of if else scheme'\n",
        "- basic comparison"
      ]
    },
    {
      "cell_type": "code",
      "execution_count": null,
      "metadata": {
        "id": "056Vv9dNCJkQ",
        "outputId": "f729eeec-0790-43cc-fda9-4381845f0858"
      },
      "outputs": [
        {
          "name": "stdout",
          "output_type": "stream",
          "text": [
            "y is an odd number\n"
          ]
        }
      ],
      "source": [
        "# Example of an if-else statement\n",
        "y = 3\n",
        "if y % 2 == 0:\n",
        "    print(\"y is an even number\")\n",
        "else:\n",
        "    print(\"y is an odd number\")\n"
      ]
    },
    {
      "cell_type": "markdown",
      "metadata": {
        "id": "uTH9lx1_CJkQ"
      },
      "source": [
        "### 3.Condition using `if`, `elif`, `else`\n",
        "\n",
        "The `elif` statement allows you to check multiple conditions. It is short for \"else if\"."
      ]
    },
    {
      "cell_type": "code",
      "execution_count": null,
      "metadata": {
        "id": "u59ClnNCCJkQ",
        "outputId": "6d3f099d-c169-4f3c-afbb-4d0983f31103",
        "colab": {
          "base_uri": "https://localhost:8080/"
        }
      },
      "outputs": [
        {
          "output_type": "stream",
          "name": "stdout",
          "text": [
            "z is a positive number\n",
            "z is zero\n"
          ]
        }
      ],
      "source": [
        "# Example of using if, elif, and else statements\n",
        "z = 5\n",
        "if z > 0:\n",
        "    print(\"z is a positive number\")\n",
        "if z < 0: #this needs to be elif!!!\n",
        "    print(\"z is a negative number\")\n",
        "else:\n",
        "    print(\"z is zero\")\n"
      ]
    },
    {
      "cell_type": "markdown",
      "metadata": {
        "id": "TxEUhy0wCJkR"
      },
      "source": [
        "### 4.Condition using Nested Conditions `if`, (`if`, `else`), `else`\n",
        "\n",
        "Nested conditions refer to placing one condition inside another.\n"
      ]
    },
    {
      "cell_type": "code",
      "execution_count": null,
      "metadata": {
        "id": "YyDURFcGCJkR",
        "outputId": "49eca986-e9ab-48a2-8654-d488bba4700a"
      },
      "outputs": [
        {
          "name": "stdout",
          "output_type": "stream",
          "text": [
            "a is greater than 10 and it's an odd number\n"
          ]
        }
      ],
      "source": [
        "# Example of nested conditions\n",
        "a = 15\n",
        "if a > 10:\n",
        "    if a % 2 == 0:\n",
        "        print(\"a is greater than 10 and it's an even number\")\n",
        "    else:\n",
        "        print(\"a is greater than 10 and it's an odd number\")\n",
        "else:\n",
        "    print(\"a is 10 or less\")\n"
      ]
    },
    {
      "cell_type": "markdown",
      "metadata": {
        "id": "JFgweZErCJkR"
      },
      "source": [
        "### 5.Condition using Nested Conditions `and`, `or`\n",
        "\n",
        "Usage with logical operators\n"
      ]
    },
    {
      "cell_type": "code",
      "execution_count": null,
      "metadata": {
        "id": "qV3iI8BkCJkS",
        "outputId": "ae44d1cf-45db-48b6-904e-6fb5b592f540",
        "colab": {
          "base_uri": "https://localhost:8080/"
        }
      },
      "outputs": [
        {
          "output_type": "stream",
          "name": "stdout",
          "text": [
            "x is greater than 5 or y is greater than 7\n"
          ]
        }
      ],
      "source": [
        "# Example of using `or` operator in conditions\n",
        "#if a>6 or b<7 and c>10 print('yes)-> easier to interpret if you split code on different lines\n",
        "#this is also easier, because you can print out more results than true/false\n",
        "#or use many, many brackets\n",
        "x = 10\n",
        "y = 5\n",
        "\n",
        "if (x > 7 and y > 7):\n",
        "    print(\"Both numbers are greater than 7\")\n",
        "if (x > 5 or y > 7):\n",
        "    print(\"x is greater than 5 or y is greater than 7\")"
      ]
    },
    {
      "cell_type": "markdown",
      "metadata": {
        "id": "mOAWMHNZCJkS"
      },
      "source": [
        "# Loops\n",
        "<img src=\"https://aleksejalex.4fan.cz/imgsbin/uploads/loops.jpg\" alt=\"banner\" width=\"50%\">"
      ]
    },
    {
      "cell_type": "markdown",
      "metadata": {
        "id": "2erUh1kaCJkS"
      },
      "source": [
        "### 1.a) Basic `for` loop construct - multiple lines approach\n",
        "\n",
        "Usage basic iteration via the collection\n"
      ]
    },
    {
      "cell_type": "code",
      "execution_count": null,
      "metadata": {
        "id": "a_LkaTb1CJkS",
        "outputId": "82233502-7903-459a-a112-bc0ca0df17bc",
        "colab": {
          "base_uri": "https://localhost:8080/"
        }
      },
      "outputs": [
        {
          "output_type": "stream",
          "name": "stdout",
          "text": [
            "apple\n",
            "banana\n",
            "cherry\n"
          ]
        }
      ],
      "source": [
        "# Example of a for loop\n",
        "fruits = [\"apple\",\"banana\",\"cherry\"]\n",
        "for fruit in fruits:\n",
        "    print(fruit)"
      ]
    },
    {
      "cell_type": "markdown",
      "metadata": {
        "id": "CGc0eNzZCJkS"
      },
      "source": [
        "### 1.b) Basic `for` loop construct - one line approach\n",
        "\n",
        "Usage basic iteration via the collection with one line construct.\n",
        "More difficult to read, but good for e.g. array declaration.\n",
        "You can only write one statement for one line, no multiple line code in the loop.\n"
      ]
    },
    {
      "cell_type": "code",
      "execution_count": null,
      "metadata": {
        "id": "jackNw77CJkT",
        "outputId": "3ae4220b-dc91-4200-94ed-bc0bb8b8c5d0",
        "colab": {
          "base_uri": "https://localhost:8080/"
        }
      },
      "outputs": [
        {
          "output_type": "stream",
          "name": "stdout",
          "text": [
            "[1, 4, 9, 16, 25]\n",
            "9\n"
          ]
        }
      ],
      "source": [
        "# Example of list comprehension\n",
        "numbers = [1, 2, 3, 4, 5]\n",
        "\n",
        "# Using list comprehension to create a new list\n",
        "squared_numbers = [x ** 2 for x in numbers] #condense about 4 lines of code into one\n",
        "#x is used here, but you can call it whatever\n",
        "\n",
        "# Getting a value\n",
        "print(squared_numbers)\n",
        "print(squared_numbers[2])  # Output: 9"
      ]
    },
    {
      "cell_type": "markdown",
      "metadata": {
        "id": "H6XqNFzHCJkT"
      },
      "source": [
        "### 2. Basic `while` loop\n",
        "\n",
        "- Usage of `while` Loop\n",
        "- Caution: be careful with using `while` loops: GENERALLY PROGRAMMERS INAPPROPRIATELY SET CONDITION AND LOOP NEVER STOPS!!!!\n",
        "- while True: used a lot for real-time applications, infinite loop wanted"
      ]
    },
    {
      "cell_type": "code",
      "execution_count": null,
      "metadata": {
        "id": "DHZcydPzCJkT",
        "outputId": "3ce1bf66-0306-4473-b103-553f880a9411",
        "colab": {
          "base_uri": "https://localhost:8080/"
        }
      },
      "outputs": [
        {
          "output_type": "stream",
          "name": "stdout",
          "text": [
            "1\n",
            "2\n",
            "3\n",
            "4\n",
            "5\n"
          ]
        }
      ],
      "source": [
        "# Example of a while loop\n",
        "i = 1 #declare variable beforehand\n",
        "while i <= 5:\n",
        "    print(i)\n",
        "    i += 1 #increase counter manually"
      ]
    },
    {
      "cell_type": "markdown",
      "metadata": {
        "id": "bFq5o_tCCJkU"
      },
      "source": [
        "### 3.Basic - Nested Loops Example\n",
        "\n",
        "Nested loops refer to placing one loop inside another loop."
      ]
    },
    {
      "cell_type": "code",
      "execution_count": null,
      "metadata": {
        "id": "OXgko7YzCJkU",
        "outputId": "a26e45c9-4db6-4829-9e71-93b0c8bf302a"
      },
      "outputs": [
        {
          "name": "stdout",
          "output_type": "stream",
          "text": [
            "(1, 1)\n",
            "(1, 2)\n",
            "(1, 3)\n",
            "(2, 1)\n",
            "(2, 2)\n",
            "(2, 3)\n",
            "(3, 1)\n",
            "(3, 2)\n",
            "(3, 3)\n"
          ]
        }
      ],
      "source": [
        "# Example of nested loops: used a lot for iterating through a matrix\n",
        "for i in range(1, 4):\n",
        "    for j in range(1, 4):\n",
        "        print(f\"({i}, {j})\")\n"
      ]
    },
    {
      "cell_type": "markdown",
      "metadata": {
        "id": "BycJCG5KCJkU"
      },
      "source": [
        "### 4.Basic - Loops with conditions\n",
        "\n",
        "Example of `break` and `continue` in a loop\n"
      ]
    },
    {
      "cell_type": "code",
      "execution_count": null,
      "metadata": {
        "id": "2rMPb9zECJkU",
        "outputId": "6f91a4f0-d057-4dc1-a4b7-01cfd13990b9",
        "colab": {
          "base_uri": "https://localhost:8080/"
        }
      },
      "outputs": [
        {
          "output_type": "stream",
          "name": "stdout",
          "text": [
            "1\n",
            "3\n"
          ]
        }
      ],
      "source": [
        "# Example of break and continue in a loop\n",
        "numbers = [1, 2, 3, 4, 5, 6]\n",
        "for number in numbers:\n",
        "    if number % 2 == 0:\n",
        "        continue  # Skip even numbers, not printed\n",
        "    if number == 5:\n",
        "        break  # Exit the loop when number is 5\n",
        "    print(number) #Prints uneven numbers\n"
      ]
    },
    {
      "cell_type": "markdown",
      "metadata": {
        "id": "9qOlRirDCJkV"
      },
      "source": [
        "### 5.Basics - Looping through dictionary items\n",
        "\n",
        "iterate via `dictionary` collection"
      ]
    },
    {
      "cell_type": "code",
      "execution_count": null,
      "metadata": {
        "id": "26Zg7-v1CJkV",
        "outputId": "d0614dbd-008b-410d-a152-86775ab0036c",
        "colab": {
          "base_uri": "https://localhost:8080/"
        }
      },
      "outputs": [
        {
          "output_type": "stream",
          "name": "stdout",
          "text": [
            "name is Alice\n",
            "age is 30\n",
            "city is New York\n"
          ]
        }
      ],
      "source": [
        "# Example of looping through dictionary items\n",
        "person = {\"name\": \"Alice\", \"age\": 30, \"city\": \"New York\"}\n",
        "for key, value in person.items():\n",
        "    print(f\"{key} is {value}\")"
      ]
    },
    {
      "cell_type": "markdown",
      "metadata": {
        "id": "zoc9xmbxCJkV"
      },
      "source": [
        "# Containers\n",
        "<img src=\"https://aleksejalex.4fan.cz/imgsbin/uploads/containers.jpg\" alt=\"banner\" width=\"50%\">"
      ]
    },
    {
      "cell_type": "markdown",
      "metadata": {
        "id": "LvkShTm1CJkV"
      },
      "source": [
        "### 1.List Example\n",
        "Most used (sequence) data type.\n",
        "\n",
        "- `fruits = [\"apple\", \"banana\", \"cherry\"]`: Initializes a list `fruits` containing strings.\n",
        "- `fruits.append(\"orange\")`: Adds the string `\"orange\"` to the end of the list `fruits`.\n",
        "- `print(fruits[0])`: Prints the first element (`\"apple\"`) of the list `fruits`.\n"
      ]
    },
    {
      "cell_type": "code",
      "execution_count": null,
      "metadata": {
        "id": "JVIEQrxHCJkW",
        "outputId": "85a6b300-03ec-4521-eee0-8eca463dc7bc",
        "colab": {
          "base_uri": "https://localhost:8080/"
        }
      },
      "outputs": [
        {
          "output_type": "stream",
          "name": "stdout",
          "text": [
            "['apple', 'banana', 'cherry', 'orange']\n",
            "apple\n"
          ]
        }
      ],
      "source": [
        "# Example of a list\n",
        "fruits = [\"apple\", \"banana\", \"cherry\"]\n",
        "\n",
        "# Inserting a value\n",
        "fruits.append(\"orange\")\n",
        "\n",
        "# Getting a value\n",
        "print(fruits)\n",
        "print(fruits[0])  # Output: apple\n"
      ]
    },
    {
      "cell_type": "markdown",
      "source": [
        "Difference between array and list:\n",
        "\n",
        "array: you need to declare it again when you change something about the size\n",
        "\n",
        "list: dynamic element, you can add and remove, no need to declare it again"
      ],
      "metadata": {
        "id": "7hXhxeIP6PG2"
      }
    },
    {
      "cell_type": "markdown",
      "metadata": {
        "id": "yfgMEZmDCJkW"
      },
      "source": [
        "### 2.Tuple Example\n",
        "\n",
        "- `person = (\"John\", 30, \"New York\")`: Initializes a tuple `person` with elements `\"John\"`, `30`, and `\"New York\"`.\n",
        "- Tuple is immutable, so you cannot add or remove elements after creation.\n",
        "- You can combine different data types into one collection.\n",
        "- `print(person[1])`: Prints the second element (`30`) of the tuple `person`.\n",
        "- To store something that should not be changed."
      ]
    },
    {
      "cell_type": "code",
      "execution_count": null,
      "metadata": {
        "id": "Hi31uW1gCJkW",
        "outputId": "94e16ccd-3bcb-4792-a878-d84d0a6fb491",
        "colab": {
          "base_uri": "https://localhost:8080/"
        }
      },
      "outputs": [
        {
          "output_type": "stream",
          "name": "stdout",
          "text": [
            "New York\n"
          ]
        }
      ],
      "source": [
        "# Example of a tuple\n",
        "person = (\"John\", 30, \"New York\")\n",
        "\n",
        "# Tuple is immutable, so you cannot directly insert values.\n",
        "# You can access values by index.\n",
        "print(person[2])  # Output: 30\n"
      ]
    },
    {
      "cell_type": "markdown",
      "metadata": {
        "id": "Y8xwPHWXCJkX"
      },
      "source": [
        "### 3.Set Example\n",
        "\n",
        "- `colors = {\"red\", \"green\", \"blue\"}`: Initializes a set `colors` containing strings.\n",
        "- `colors.add(\"yellow\")`: Adds the string `\"yellow\"` to the set `colors`.\n",
        "- Sets are unordered, so you cannot access elements by index. Use iteration (`for` loop) to print all elements.\n"
      ]
    },
    {
      "cell_type": "code",
      "execution_count": null,
      "metadata": {
        "id": "Wb7fItYbCJkX",
        "outputId": "bb8e8f01-d35c-4f19-f6ab-831b92a9a20b",
        "colab": {
          "base_uri": "https://localhost:8080/"
        }
      },
      "outputs": [
        {
          "output_type": "stream",
          "name": "stdout",
          "text": [
            "blue\n",
            "yellow\n",
            "red\n",
            "green\n"
          ]
        }
      ],
      "source": [
        "# Example of a set\n",
        "colors = {\"red\", \"green\", \"blue\"}\n",
        "\n",
        "# Adding a value\n",
        "colors.add(\"yellow\")\n",
        "\n",
        "# Getting values (sets are unordered, so you cannot access by index)\n",
        "for color in colors:\n",
        "    print(color)\n"
      ]
    },
    {
      "cell_type": "markdown",
      "metadata": {
        "id": "z4ZujGsBCJkX"
      },
      "source": [
        "### 4.Dictionary Example\n",
        "\n",
        "- `person = {\"name\": \"Alice\", \"age\": 30, \"city\": \"New York\"}`: Initializes a dictionary `person` with keys `\"name\"`, `\"age\"`, and `\"city\"`, and their corresponding values.\n",
        "- `person[\"email\"] = \"alice@example.com\"`: Inserts a new key-value pair `\"email\": \"alice@example.com\"` into the dictionary `person`.\n",
        "- `print(person[\"name\"])`: Retrieves and prints the value associated with the key `\"name\"` from the dictionary `person`."
      ]
    },
    {
      "cell_type": "code",
      "execution_count": null,
      "metadata": {
        "id": "z-8HDe8hCJkX",
        "outputId": "d93c2b05-c617-48ec-ff87-b45644c0df16",
        "colab": {
          "base_uri": "https://localhost:8080/"
        }
      },
      "outputs": [
        {
          "output_type": "stream",
          "name": "stdout",
          "text": [
            "dict_items([('name', 'Alice'), ('age', 30), ('city', 'New York'), ('email', 'alice@example.com')])\n",
            "Alice\n"
          ]
        }
      ],
      "source": [
        "# Example of a dictionary\n",
        "person = {\"name\": \"Alice\", \"age\": 30, \"city\": \"New York\"}\n",
        "\n",
        "# Inserting a value, don't need to declare person again because of expansion\n",
        "person[\"email\"] = \"alice@example.com\"\n",
        "\n",
        "# Getting a value\n",
        "print(person.items())\n",
        "print(person[\"name\"])  # Output: Alice\n"
      ]
    },
    {
      "cell_type": "markdown",
      "metadata": {
        "id": "mcGpoy4JCJkX"
      },
      "source": [
        "\n",
        "### 5.Nested List Example\n",
        "\n",
        "- `matrix = [[1, 2, 3], [4, 5, 6], [7, 8, 9]]`: Initializes a nested list `matrix` containing three inner lists.\n",
        "- `matrix[0].append(4)`: Appends the integer `4` to the first inner list `[1, 2, 3]` within `matrix`.\n",
        "- `print(matrix[1][1])`: Retrieves and prints the value at row index `1` and column index `1` from the nested list `matrix`."
      ]
    },
    {
      "cell_type": "code",
      "execution_count": null,
      "metadata": {
        "id": "2SY-Ui1jCJkZ",
        "outputId": "09a5571f-56d9-43f3-a10a-3a9ee7f56179"
      },
      "outputs": [
        {
          "name": "stdout",
          "output_type": "stream",
          "text": [
            "5\n"
          ]
        }
      ],
      "source": [
        "# Example of nested list\n",
        "matrix = [[1, 2, 3], [4, 5, 6], [7, 8, 9]]\n",
        "\n",
        "# Inserting a value\n",
        "matrix[0].append(4)\n",
        "\n",
        "# Getting a value\n",
        "print(matrix[1][1])  # Output: 5\n"
      ]
    },
    {
      "cell_type": "markdown",
      "metadata": {
        "id": "EeDfWXipCJkZ"
      },
      "source": [
        "### 6.Example of List Comprehension\n",
        "\n",
        "- `numbers = [1, 2, 3, 4, 5]`: Initializes a list `numbers` with integers.\n",
        "- `squared_numbers = [x ** 2 for x in numbers]`: Uses list comprehension to create a new list `squared_numbers` where each element is the square of the corresponding element from `numbers`.\n",
        "- `print(squared_numbers[2])`: Retrieves and prints the third element (`9`) from the list `squared_numbers`, which is the square of `3` from `numbers`.\n"
      ]
    },
    {
      "cell_type": "code",
      "execution_count": null,
      "metadata": {
        "id": "HLLpJu0iCJkZ",
        "outputId": "472928d5-6847-42d3-d7fc-cd2b9e0deb61"
      },
      "outputs": [
        {
          "name": "stdout",
          "output_type": "stream",
          "text": [
            "9\n"
          ]
        }
      ],
      "source": [
        "# Example of list comprehension\n",
        "numbers = [1, 2, 3, 4, 5]\n",
        "\n",
        "# Using list comprehension to create a new list\n",
        "squared_numbers = [x ** 2 for x in numbers]\n",
        "\n",
        "# Getting a value\n",
        "print(squared_numbers[2])  # Output: 9\n"
      ]
    },
    {
      "cell_type": "markdown",
      "metadata": {
        "id": "WVVtBGwZCJkZ"
      },
      "source": [
        "### 7.Example of Set Comprehension\n",
        "\n",
        "- `numbers = [1, 2, 3, 4, 5, 5, 4, 3, 2, 1]`: Initializes a list `numbers` with integers.\n",
        "- `unique_numbers = {x for x in numbers}`: Uses set comprehension to create a new set `unique_numbers` containing unique elements from `numbers`.\n",
        "- Iterates through `unique_numbers` to print each unique element.\n"
      ]
    },
    {
      "cell_type": "code",
      "execution_count": null,
      "metadata": {
        "id": "78J2D6shCJka",
        "outputId": "33bfc757-b4f2-4440-bcb6-a6311010c43a"
      },
      "outputs": [
        {
          "name": "stdout",
          "output_type": "stream",
          "text": [
            "1\n",
            "2\n",
            "3\n",
            "4\n",
            "5\n"
          ]
        }
      ],
      "source": [
        "# Example of set comprehension\n",
        "numbers = [1, 2, 3, 4, 5, 5, 4, 3, 2, 1]\n",
        "\n",
        "# Using set comprehension to create a new set\n",
        "unique_numbers = {x for x in numbers}\n",
        "\n",
        "# Getting values (sets are unordered, so you cannot access by index)\n",
        "for num in unique_numbers:\n",
        "    print(num)\n"
      ]
    },
    {
      "cell_type": "markdown",
      "metadata": {
        "id": "SMCVod2KCJka"
      },
      "source": [
        "### 8.Example of Dictionary Comprehension\n",
        "\n",
        "- `numbers = [1, 2, 3, 4, 5]`: Initializes a list `numbers` with integers.\n",
        "- `squared_dict = {x: x ** 2 for x in numbers}`: Uses dictionary comprehension to create a new dictionary `squared_dict` where keys are elements from `numbers` and values are the squares of those elements.\n",
        "- `print(squared_dict[4])`: Retrieves and prints the value associated with key `4` from the dictionary `squared_dict`, which is `16`.\n"
      ]
    },
    {
      "cell_type": "code",
      "execution_count": null,
      "metadata": {
        "id": "EZ9ZUGvgCJka",
        "outputId": "60e76a6c-d99f-4176-ff8e-a11f96943b21"
      },
      "outputs": [
        {
          "name": "stdout",
          "output_type": "stream",
          "text": [
            "16\n"
          ]
        }
      ],
      "source": [
        "# Example of dictionary comprehension\n",
        "numbers = [1, 2, 3, 4, 5]\n",
        "\n",
        "# Using dictionary comprehension to create a new dictionary\n",
        "squared_dict = {x: x ** 2 for x in numbers}\n",
        "\n",
        "# Getting a value\n",
        "print(squared_dict[4])  # Output: 16\n"
      ]
    },
    {
      "cell_type": "markdown",
      "metadata": {
        "id": "wGvYCS1MCJka"
      },
      "source": [
        "### 9.Example of Generator Expression\n",
        "\n",
        "- `numbers = [1, 2, 3, 4, 5]`: Initializes a list `numbers` with integers.\n",
        "- `squared_gen = (x ** 2 for x in numbers)`: Uses a generator expression to create a generator `squared_gen` that yields the square of each element in `numbers` when iterated.\n",
        "- Iterates through `squared_gen` to print each squared value.\n"
      ]
    },
    {
      "cell_type": "code",
      "execution_count": null,
      "metadata": {
        "id": "nUgnqMWDCJkb",
        "outputId": "7d4023fc-dfa7-4861-f267-0b3365e2bc99"
      },
      "outputs": [
        {
          "name": "stdout",
          "output_type": "stream",
          "text": [
            "1\n",
            "4\n",
            "9\n",
            "16\n",
            "25\n"
          ]
        }
      ],
      "source": [
        "# Example of generator expression\n",
        "numbers = [1, 2, 3, 4, 5]\n",
        "\n",
        "# Using generator expression to iterate through values\n",
        "squared_gen = (x ** 2 for x in numbers)\n",
        "\n",
        "# Getting values by iteration\n",
        "for num in squared_gen:\n",
        "    print(num)\n"
      ]
    },
    {
      "cell_type": "markdown",
      "metadata": {
        "id": "gvpdyeF6CJkb"
      },
      "source": [
        "# Classes\n",
        "\n",
        "<img src=\"https://aleksejalex.4fan.cz/imgsbin/uploads/classes.jpg\" alt=\"banner\" width=\"50%\">"
      ]
    },
    {
      "cell_type": "markdown",
      "metadata": {
        "id": "4o-1pcJJCJkb"
      },
      "source": [
        "### 1.Class Declaration\n",
        "\n",
        "- Defines a base class `Animal` with an initializer method `__init__` that sets the `name` attribute.\n",
        "- Defines a method `speak` which raises `NotImplementedError` indicating that subclasses must implement this method.\n",
        "- Creates instances of the class `Animal` (`dog` and `cat`) with names \"Dog\" and \"Cat\" respectively.\n",
        "- Accesses the `name` attribute of the instances (`dog.name` and `cat.name`) and calls the `speak` method on the instance `cat`.\n"
      ]
    },
    {
      "cell_type": "code",
      "execution_count": null,
      "metadata": {
        "id": "-dq99MMQCJkb",
        "outputId": "ab873926-f801-4f2d-a05d-48eb19a69d27",
        "colab": {
          "base_uri": "https://localhost:8080/",
          "height": 315
        }
      },
      "outputs": [
        {
          "output_type": "stream",
          "name": "stdout",
          "text": [
            "Dog\n"
          ]
        },
        {
          "output_type": "error",
          "ename": "NotImplementedError",
          "evalue": "Subclass must implement abstract method",
          "traceback": [
            "\u001b[0;31m---------------------------------------------------------------------------\u001b[0m",
            "\u001b[0;31mNotImplementedError\u001b[0m                       Traceback (most recent call last)",
            "\u001b[0;32m<ipython-input-46-86cfd9b054b2>\u001b[0m in \u001b[0;36m<cell line: 15>\u001b[0;34m()\u001b[0m\n\u001b[1;32m     13\u001b[0m \u001b[0;31m# Accessing attributes and methods\u001b[0m\u001b[0;34m\u001b[0m\u001b[0;34m\u001b[0m\u001b[0m\n\u001b[1;32m     14\u001b[0m \u001b[0mprint\u001b[0m\u001b[0;34m(\u001b[0m\u001b[0mdog\u001b[0m\u001b[0;34m.\u001b[0m\u001b[0mname\u001b[0m\u001b[0;34m)\u001b[0m  \u001b[0;31m# Output: Dog\u001b[0m\u001b[0;34m\u001b[0m\u001b[0;34m\u001b[0m\u001b[0m\n\u001b[0;32m---> 15\u001b[0;31m \u001b[0mcat\u001b[0m\u001b[0;34m.\u001b[0m\u001b[0mspeak\u001b[0m\u001b[0;34m(\u001b[0m\u001b[0;34m)\u001b[0m  \u001b[0;31m# Raises NotImplementedError\u001b[0m\u001b[0;34m\u001b[0m\u001b[0;34m\u001b[0m\u001b[0m\n\u001b[0m",
            "\u001b[0;32m<ipython-input-46-86cfd9b054b2>\u001b[0m in \u001b[0;36mspeak\u001b[0;34m(self)\u001b[0m\n\u001b[1;32m      5\u001b[0m \u001b[0;34m\u001b[0m\u001b[0m\n\u001b[1;32m      6\u001b[0m     \u001b[0;32mdef\u001b[0m \u001b[0mspeak\u001b[0m\u001b[0;34m(\u001b[0m\u001b[0mself\u001b[0m\u001b[0;34m)\u001b[0m\u001b[0;34m:\u001b[0m\u001b[0;34m\u001b[0m\u001b[0;34m\u001b[0m\u001b[0m\n\u001b[0;32m----> 7\u001b[0;31m         \u001b[0;32mraise\u001b[0m \u001b[0mNotImplementedError\u001b[0m\u001b[0;34m(\u001b[0m\u001b[0;34m\"Subclass must implement abstract method\"\u001b[0m\u001b[0;34m)\u001b[0m\u001b[0;34m\u001b[0m\u001b[0;34m\u001b[0m\u001b[0m\n\u001b[0m\u001b[1;32m      8\u001b[0m \u001b[0;34m\u001b[0m\u001b[0m\n\u001b[1;32m      9\u001b[0m \u001b[0;31m# Creating instances of the class\u001b[0m\u001b[0;34m\u001b[0m\u001b[0;34m\u001b[0m\u001b[0m\n",
            "\u001b[0;31mNotImplementedError\u001b[0m: Subclass must implement abstract method"
          ]
        }
      ],
      "source": [
        "# Example of class declaration\n",
        "class Animal:\n",
        "    def __init__(self, name):\n",
        "        self.name = name\n",
        "\n",
        "    def speak(self):\n",
        "        raise NotImplementedError(\"Subclass must implement abstract method\")\n",
        "\n",
        "# Creating instances of the class\n",
        "dog = Animal(\"Dog\")\n",
        "cat = Animal(\"Cat\")\n",
        "\n",
        "# Accessing attributes and methods\n",
        "print(dog.name)  # Output: Dog\n",
        "cat.speak()  # Raises NotImplementedError\n"
      ]
    },
    {
      "cell_type": "code",
      "source": [
        "# Example of class declaration\n",
        "class Animal:\n",
        "    def __init__(self, name):\n",
        "        self.name = name\n",
        "\n",
        "    def speak(self):\n",
        "        print(\"hello\", self.name) #comma is necessary!\n",
        "\n",
        "# Creating instances of the class\n",
        "dog = Animal(\"Dog\")\n",
        "cat = Animal(\"Cat\")\n",
        "\n",
        "# Accessing attributes and methods\n",
        "print(dog.name)  # Output: Dog\n",
        "cat.speak()  # Raises NotImplementedError\n"
      ],
      "metadata": {
        "id": "XRvi5xhk_TDO",
        "outputId": "0fe02f3b-d931-4b40-cb70-f141b82f06ac",
        "colab": {
          "base_uri": "https://localhost:8080/"
        }
      },
      "execution_count": null,
      "outputs": [
        {
          "output_type": "stream",
          "name": "stdout",
          "text": [
            "Dog\n",
            "hello Cat\n"
          ]
        }
      ]
    },
    {
      "cell_type": "code",
      "source": [
        "name= \"eva\"\n",
        "print(\"hello\" + name) #sticks names to each other\n",
        "print(\"hello\", name) #valid\n",
        "print(\"hello\" name) #invalid"
      ],
      "metadata": {
        "id": "fl6p4mS__rFM",
        "outputId": "0729eb76-9fdf-4dc3-bd59-27e429c7b4f6",
        "colab": {
          "base_uri": "https://localhost:8080/",
          "height": 106
        }
      },
      "execution_count": null,
      "outputs": [
        {
          "output_type": "error",
          "ename": "SyntaxError",
          "evalue": "invalid syntax. Perhaps you forgot a comma? (<ipython-input-56-e47fca6d3f1b>, line 4)",
          "traceback": [
            "\u001b[0;36m  File \u001b[0;32m\"<ipython-input-56-e47fca6d3f1b>\"\u001b[0;36m, line \u001b[0;32m4\u001b[0m\n\u001b[0;31m    print(\"hello\" name)\u001b[0m\n\u001b[0m          ^\u001b[0m\n\u001b[0;31mSyntaxError\u001b[0m\u001b[0;31m:\u001b[0m invalid syntax. Perhaps you forgot a comma?\n"
          ]
        }
      ]
    },
    {
      "cell_type": "markdown",
      "metadata": {
        "id": "ku-iwMJvCJkc"
      },
      "source": [
        "### 2.Inheritance\n",
        "\n",
        "- Defines a subclass `Dog` inheriting from the base class `Animal`.\n",
        "- Overrides the `speak` method in the subclass `Dog` to return a string representing the dog's sound.\n",
        "- Defines another subclass `Cat` inheriting from `Animal` and overrides the `speak` method for cats.\n",
        "- Creates instances of `Dog` (`dog`) and `Cat` (`cat`) with names \"Buddy\" and \"Whiskers\" respectively.\n",
        "- Accesses the overridden `speak` methods for both instances (`dog.speak()` and `cat.speak()`).\n"
      ]
    },
    {
      "cell_type": "code",
      "execution_count": null,
      "metadata": {
        "id": "ZsApQX7SCJkc"
      },
      "outputs": [],
      "source": [
        "# Example of inheritance\n",
        "class Dog(Animal):\n",
        "    def speak(self):\n",
        "        return f\"{self.name} says Woof!\"\n",
        "\n",
        "class Cat(Animal):\n",
        "    def speak(self):\n",
        "        return f\"{self.name} says Meow!\"\n",
        "\n",
        "# Creating instances of subclasses\n",
        "dog = Dog(\"Buddy\")\n",
        "cat = Cat(\"Whiskers\")\n",
        "\n",
        "# Accessing overridden methods\n",
        "print(dog.speak())  # Output: Buddy says Woof!\n",
        "print(cat.speak())  # Output: Whiskers says Meow!\n"
      ]
    },
    {
      "cell_type": "markdown",
      "metadata": {
        "id": "bDzphceTCJkc"
      },
      "source": [
        "### 3.Method Overriding\n",
        "\n",
        "- Defines a subclass `Bird` inheriting from the base class `Animal`.\n",
        "- Overrides the `speak` method in the subclass `Bird` to return a custom string representing the bird's sound.\n",
        "- Creates an instance of `Bird` (`bird`) with the name \"Nightingale\".\n",
        "- Accesses the overridden `speak` method for the `bird` instance (`bird.speak()`).\n"
      ]
    },
    {
      "cell_type": "code",
      "execution_count": null,
      "metadata": {
        "id": "miLcLLnPCJkc"
      },
      "outputs": [],
      "source": [
        "# Example of method overriding\n",
        "class Bird(Animal):\n",
        "    def speak(self):\n",
        "        return f\"{self.name} sings beautifully!\"\n",
        "\n",
        "# Creating an instance of the subclass\n",
        "bird = Bird(\"Nightingale\")\n",
        "\n",
        "# Accessing overridden method\n",
        "print(bird.speak())  # Output: Nightingale sings beautifully!\n"
      ]
    },
    {
      "cell_type": "markdown",
      "metadata": {
        "id": "msVgim3KCJkd"
      },
      "source": [
        "### 4.Class with Class Variable and Instance Variable\n",
        "\n",
        "- Defines a class `Employee` with a class variable `company` set to \"XYZ Corp\".\n",
        "- Initializes instances of `Employee` (`emp1` and `emp2`) with instance variables `name` and `salary`.\n",
        "- Accesses and prints the class variable `company` using both the class (`Employee.company`) and instance (`emp1.company`) references.\n",
        "- Accesses and prints the instance variables `name` and `salary` for both instances (`emp1.name`, `emp1.salary`, `emp2.name`, `emp2.salary`).\n"
      ]
    },
    {
      "cell_type": "code",
      "execution_count": null,
      "metadata": {
        "id": "aVAvTJsDCJkd",
        "colab": {
          "base_uri": "https://localhost:8080/"
        },
        "outputId": "30cd102f-1fcc-4d7b-e6d9-3fc3a5e3ee6c"
      },
      "outputs": [
        {
          "output_type": "stream",
          "name": "stdout",
          "text": [
            "XYZ Corp\n",
            "John 50000\n",
            "Alice 60000\n"
          ]
        }
      ],
      "source": [
        "# Example of class with class variable and instance variable\n",
        "class Employee:\n",
        "    company = \"XYZ Corp\"  # CLASS VARIABLE, common for all instances\n",
        "\n",
        "    def __init__(self, name, salary):\n",
        "        self.name = name  # INSTANCE VARIABLE, special for this object\n",
        "        self.salary = salary  # INSTANCE VARIABLE, special for this object (<> def more objects?)\n",
        "\n",
        "# Creating instances of the class\n",
        "emp1 = Employee(\"John\", 50000)\n",
        "emp2 = Employee(\"Alice\", 60000)\n",
        "\n",
        "# Accessing class and instance variables\n",
        "print(Employee.company)  # Output: XYZ Corp\n",
        "print(emp1.name, emp1.salary)  # Output: John 50000\n",
        "print(emp2.name, emp2.salary)  # Output: Alice 60000\n"
      ]
    },
    {
      "cell_type": "markdown",
      "metadata": {
        "id": "t9Az2I2JCJkd"
      },
      "source": [
        "### 5.Multiple Inheritance\n",
        "\n",
        "- Defines three classes `A`, `B`, and `C` where `C` inherits from both `A` and `B`.\n",
        "- Defines methods `method_a`, `method_b`, and `method_c` in classes `A`, `B`, and `C` respectively.\n",
        "- Creates an instance `obj` of the class `C`.\n",
        "- Accesses and calls methods from both parent classes (`obj.method_a()`, `obj.method_b()`) as well as its own method (`obj.method_c()`).\n"
      ]
    },
    {
      "cell_type": "code",
      "execution_count": null,
      "metadata": {
        "id": "pvTQa8YlCJkd",
        "colab": {
          "base_uri": "https://localhost:8080/"
        },
        "outputId": "033e705e-4126-4bd0-dce7-b61d11298eb1"
      },
      "outputs": [
        {
          "output_type": "stream",
          "name": "stdout",
          "text": [
            "Method A\n",
            "Method B\n",
            "Method C\n"
          ]
        }
      ],
      "source": [
        "# Example of multiple inheritance\n",
        "class A:\n",
        "    def method_a(self):\n",
        "        print(\"Method A\")\n",
        "\n",
        "class B:\n",
        "    def method_b(self):\n",
        "        print(\"Method B\")\n",
        "\n",
        "class C(A, B):\n",
        "    def method_c(self):\n",
        "        print(\"Method C\")\n",
        "\n",
        "# Creating an instance of the subclass\n",
        "obj = C()\n",
        "\n",
        "# Accessing methods from both base classes\n",
        "obj.method_a()  # Output: Method A\n",
        "obj.method_b()  # Output: Method B\n",
        "obj.method_c()  # Output: Method C\n"
      ]
    },
    {
      "cell_type": "markdown",
      "source": [
        "## Exercises\n",
        "# Example 1: Variables"
      ],
      "metadata": {
        "id": "qm1AADnAQo5X"
      }
    },
    {
      "cell_type": "code",
      "source": [
        "name='Eva'\n",
        "age=23\n",
        "height=float(153)\n",
        "birth_year=2023-age\n",
        "height_meters=height/100\n",
        "is_adult=age>18\n",
        "is_adult_str=str(is_adult).lower()\n",
        "print(f'My name is {name}.')\n",
        "print(f'My height is {height} cm or {height/100} m.') #math inside {} is possible, if using ,height, I get an extra space.\n",
        "print(f'I was born in {birth_year}.')\n",
        "print('It is',is_adult_str,'that I am an adult.')"
      ],
      "metadata": {
        "id": "SBkPcT_EQphZ",
        "outputId": "b6862248-c5e5-439e-c3fe-8afd8424362b",
        "colab": {
          "base_uri": "https://localhost:8080/"
        }
      },
      "execution_count": 81,
      "outputs": [
        {
          "output_type": "stream",
          "name": "stdout",
          "text": [
            "My name is Eva.\n",
            "My height is 153.0 cm or 1.53 m.\n",
            "I was born in 2000.\n",
            "It is true that I am an adult.\n"
          ]
        }
      ]
    },
    {
      "cell_type": "markdown",
      "source": [
        "# Example 2: Conditions\n",
        "Write a code to check if a year is a leap year.\n"
      ],
      "metadata": {
        "id": "vAGOL3U2TphN"
      }
    },
    {
      "cell_type": "code",
      "source": [
        "year=int(input('Check if this year is a leap year:'))\n",
        "if year%400==0:\n",
        "  print(f'{year} is a leap year.')\n",
        "elif year%100==0:\n",
        "  print(f'{year} is not a leap year.')\n",
        "elif year%4==0:\n",
        "  print(f'{year} is a leap year.')\n",
        "else:\n",
        "  print(f'{year} is not a leap year.')\n"
      ],
      "metadata": {
        "id": "w9Wy8d6-VP7f",
        "outputId": "3621e043-4495-4d15-c19a-9604f64eb2e4",
        "colab": {
          "base_uri": "https://localhost:8080/"
        }
      },
      "execution_count": 92,
      "outputs": [
        {
          "output_type": "stream",
          "name": "stdout",
          "text": [
            "Check if this year is a leap year:2024\n",
            "2024 is a leap year. \n"
          ]
        }
      ]
    },
    {
      "cell_type": "code",
      "source": [
        "#other option:\n",
        "#if (year%4==0):\n",
        "# if (year%100!=0):\n",
        "#   print('leap')\n",
        "# elif (year%100==0):\n",
        "#   if (year%400==0):\n",
        "#     print('leap)\n",
        "#   else:\n",
        "#     print('not leap')\n",
        "#else:\n",
        "# print('not leap')"
      ],
      "metadata": {
        "id": "ksVvNezBYvJ_"
      },
      "execution_count": null,
      "outputs": []
    },
    {
      "cell_type": "markdown",
      "source": [
        "# Example 3: Loops\n",
        "Write a code to calculate the double of an element with a for loop and the square of an element with a while loop."
      ],
      "metadata": {
        "id": "gUQHBd3wVxdL"
      }
    },
    {
      "cell_type": "code",
      "source": [
        "numbers=[1,2,3,4,5]\n",
        "print(numbers)\n",
        "for elements in numbers:\n",
        "  print(elements*2)\n",
        "index=0\n",
        "while index < len(numbers):\n",
        "  print(numbers[index]*numbers[index])\n",
        "  index+=1\n"
      ],
      "metadata": {
        "id": "o5zq-w7uVzzO",
        "outputId": "b07284ce-9f6a-416e-ef9b-5af36f34b869",
        "colab": {
          "base_uri": "https://localhost:8080/"
        }
      },
      "execution_count": 100,
      "outputs": [
        {
          "output_type": "stream",
          "name": "stdout",
          "text": [
            "[1, 2, 3, 4, 5]\n",
            "2\n",
            "4\n",
            "6\n",
            "8\n",
            "10\n",
            "1\n",
            "4\n",
            "9\n",
            "16\n",
            "25\n"
          ]
        }
      ]
    },
    {
      "cell_type": "code",
      "source": [
        "#alternative to print output as a list\n",
        "numbers=[1,2,3,4,5]\n",
        "print(numbers)\n",
        "output1=list()\n",
        "for elements in numbers:\n",
        "  output1.append(elements*2)\n",
        "print(output1)\n",
        "index=0\n",
        "output2=list()\n",
        "while index < len(numbers):\n",
        "  output2.append(numbers[index]*numbers[index])\n",
        "  index+=1\n",
        "print(output2)"
      ],
      "metadata": {
        "id": "9dAM1kRqaqmA",
        "outputId": "d7b3ffef-09cf-4f5d-8c16-8dec76c9caf1",
        "colab": {
          "base_uri": "https://localhost:8080/"
        }
      },
      "execution_count": 101,
      "outputs": [
        {
          "output_type": "stream",
          "name": "stdout",
          "text": [
            "[1, 2, 3, 4, 5]\n",
            "[2, 4, 6, 8, 10]\n",
            "[1, 4, 9, 16, 25]\n"
          ]
        }
      ]
    },
    {
      "cell_type": "markdown",
      "metadata": {
        "id": "oWDO6JL6r14R"
      },
      "source": [
        "## Summary\n",
        " - Basic importing\n",
        " - Basic Variables: int, string, etc..\n",
        " - Conditions: using 'if' and 'else'\n",
        " - Loops: for, while, etc..\n",
        " - Containers: List, Set, etc..\n",
        " - Classes: basic declaration, inheritance"
      ]
    },
    {
      "cell_type": "markdown",
      "metadata": {
        "id": "hSP8oxmBr77B"
      },
      "source": [
        "## Additional sources (where to seek for information):\n",
        " - Programming with Mosh: https://www.youtube.com/watch?v=kqtD5dpn9C8\n",
        " - w3Schools Python: https://www.w3schools.com/python/"
      ]
    },
    {
      "cell_type": "markdown",
      "metadata": {
        "id": "ObAKPgeNcZ9e"
      },
      "source": [
        "<div style=\"font-style: italic; font-size: 14px;\">\n",
        "    <p>This material was prepared by Department of Information Engineering (<a href=\"https://www.pef.czu.cz/en\">PEF ČZU</a>) exclusively for purposes of ELLS summer school \"Practical Introduction into Programming with Python\". Any distribution or reproduction of this material, in whole or in part, without prior written consent of the authors is prohibited.</p>\n",
        "    <p>This material is shared under the <b>Creative Commons Attribution-NonCommercial-NoDerivatives 4.0 International Public License</b>, <a href=\"https://creativecommons.org/licenses/by-nc-nd/4.0/\">link</a>.</p>\n",
        "</div>\n"
      ]
    }
  ],
  "metadata": {
    "colab": {
      "provenance": [],
      "include_colab_link": true
    },
    "kernelspec": {
      "display_name": "Python 3",
      "name": "python3"
    },
    "language_info": {
      "codemirror_mode": {
        "name": "ipython",
        "version": 3
      },
      "file_extension": ".py",
      "mimetype": "text/x-python",
      "name": "python",
      "nbconvert_exporter": "python",
      "pygments_lexer": "ipython3",
      "version": "3.12.1"
    }
  },
  "nbformat": 4,
  "nbformat_minor": 0
}